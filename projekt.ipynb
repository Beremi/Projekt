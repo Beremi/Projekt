{
 "cells": [
  {
   "cell_type": "markdown",
   "metadata": {},
   "source": [
    "# Markowitzova teorie portfolia\n",
    "## Část první"
   ]
  },
  {
   "cell_type": "markdown",
   "metadata": {},
   "source": [
    "Importování "
   ]
  },
  {
   "cell_type": "code",
   "execution_count": 1,
   "metadata": {},
   "outputs": [],
   "source": [
    "import numpy as np"
   ]
  },
  {
   "cell_type": "markdown",
   "metadata": {},
   "source": [
    "1. Načítání dat ze souboru"
   ]
  },
  {
   "cell_type": "code",
   "execution_count": 6,
   "metadata": {},
   "outputs": [],
   "source": [
    "pocet = 0 \n",
    "with open (\"mtu.txt\", \"r\") as soubor:\n",
    "    for index, radek in enumerate(soubor):\n",
    "        pocet += 1 \n",
    "\n",
    "ceny= np.zeros(pocet)\n",
    "\n",
    "with open (\"mtu.txt\", \"r\") as soubor:\n",
    "    for index, radek in enumerate(soubor): \n",
    "        datum, hodnota = radek.split(\"\\t\")\n",
    "        ceny[index]=float(hodnota)"
   ]
  },
  {
   "cell_type": "markdown",
   "metadata": {},
   "source": [
    "2. Výpočet jednotlivých výnosů"
   ]
  },
  {
   "cell_type": "code",
   "execution_count": 18,
   "metadata": {},
   "outputs": [
    {
     "name": "stdout",
     "output_type": "stream",
     "text": [
      "-0.013255161865918911\n"
     ]
    }
   ],
   "source": [
    "denni_vynosy = np.zeros((239,14))\n",
    "mocnina = np.zeros((239,14))\n",
    "suma = np.zeros(14)\n",
    "suma_mocnina = np.zeros(14)\n",
    "\n",
    "for k in range(14):\n",
    "    for i in range(239):\n",
    "        denni_vynosy[i, k] = (ceny[(i+1)+k*20]-ceny[k*20+i])/ceny[k*20+i]\n",
    "        mocnina[i, k]= denni_vynosy[i, k]**2\n",
    "        suma[k] += denni_vynosy[i,k]\n",
    "        suma_mocnina[k] += mocnina[i,k]"
   ]
  },
  {
   "cell_type": "markdown",
   "metadata": {},
   "source": [
    "3. Vykreslení výnosů"
   ]
  }
 ],
 "metadata": {
  "kernelspec": {
   "display_name": "Python 3",
   "language": "python",
   "name": "python3"
  },
  "language_info": {
   "codemirror_mode": {
    "name": "ipython",
    "version": 3
   },
   "file_extension": ".py",
   "mimetype": "text/x-python",
   "name": "python",
   "nbconvert_exporter": "python",
   "pygments_lexer": "ipython3",
   "version": "3.10.12"
  }
 },
 "nbformat": 4,
 "nbformat_minor": 2
}
